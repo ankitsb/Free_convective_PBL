{
 "cells": [
  {
   "cell_type": "code",
   "execution_count": 1,
   "id": "dbf88fab-b767-464a-9a30-323c10ee59d4",
   "metadata": {},
   "outputs": [],
   "source": [
    "using Oceananigans\n",
    "using Oceananigans.Units: minutes, hour, hours, day\n",
    "using Random\n",
    "using Printf\n",
    "using CUDA"
   ]
  },
  {
   "cell_type": "code",
   "execution_count": 16,
   "id": "bb41092a-0389-4ad8-bf2b-32d3e538b511",
   "metadata": {},
   "outputs": [
    {
     "name": "stdout",
     "output_type": "stream",
     "text": [
      "\u001b[32m\u001b[1mStatus\u001b[22m\u001b[39m `~/.julia/environments/v1.9/Project.toml`\n",
      "\u001b[33m⌅\u001b[39m \u001b[90m[79e6a3ab] \u001b[39mAdapt v3.7.2\n",
      "\u001b[33m⌅\u001b[39m \u001b[90m[052768ef] \u001b[39mCUDA v4.4.1\n",
      "\u001b[32m⌃\u001b[39m \u001b[90m[13f3f980] \u001b[39mCairoMakie v0.11.9\n",
      "\u001b[32m⌃\u001b[39m \u001b[90m[a93c6f00] \u001b[39mDataFrames v1.6.1\n",
      "\u001b[32m⌃\u001b[39m \u001b[90m[39dd38d3] \u001b[39mDierckx v0.5.3\n",
      "\u001b[32m⌃\u001b[39m \u001b[90m[9a22fb26] \u001b[39mGibbsSeaWater v0.1.3\n",
      "  \u001b[90m[c27321d9] \u001b[39mGlob v1.3.1\n",
      "\u001b[33m⌅\u001b[39m \u001b[90m[7073ff75] \u001b[39mIJulia v1.26.0\n",
      "  \u001b[90m[a98d9a8b] \u001b[39mInterpolations v0.15.1\n",
      "\u001b[33m⌅\u001b[39m \u001b[90m[033835bb] \u001b[39mJLD2 v0.4.46\n",
      "\u001b[32m⌃\u001b[39m \u001b[90m[da04e1cc] \u001b[39mMPI v0.20.19\n",
      "\u001b[33m⌅\u001b[39m \u001b[90m[30363a11] \u001b[39mNetCDF v0.11.8\n",
      "  \u001b[90m[9e8cae18] \u001b[39mOceananigans v0.90.0 `https://github.com/CliMA/Oceananigans.jl.git#ss/distributed-fft`\n",
      "\u001b[32m⌃\u001b[39m \u001b[90m[d0ccf422] \u001b[39mOceanostics v0.13.2\n",
      "\u001b[32m⌃\u001b[39m \u001b[90m[91a5bcdd] \u001b[39mPlots v1.39.0\n",
      "\u001b[32m⌃\u001b[39m \u001b[90m[f27b6e38] \u001b[39mPolynomials v4.0.6\n",
      "\u001b[32m⌃\u001b[39m \u001b[90m[f2b01f46] \u001b[39mRoots v2.1.2\n",
      "\u001b[32m⌃\u001b[39m \u001b[90m[d496a93d] \u001b[39mSeawaterPolynomials v0.3.4\n",
      "\u001b[32m⌃\u001b[39m \u001b[90m[90137ffa] \u001b[39mStaticArrays v1.9.3\n",
      "  \u001b[90m[10745b16] \u001b[39mStatistics v1.9.0\n",
      "\u001b[36m\u001b[1mInfo\u001b[22m\u001b[39m Packages marked with \u001b[32m⌃\u001b[39m and \u001b[33m⌅\u001b[39m have new versions available, but those with \u001b[33m⌅\u001b[39m are restricted by compatibility constraints from upgrading. To see why use `status --outdated`\n"
     ]
    }
   ],
   "source": [
    "]st"
   ]
  },
  {
   "cell_type": "code",
   "execution_count": 2,
   "id": "17eff8ae-905c-4d91-969e-0dd98782592a",
   "metadata": {},
   "outputs": [
    {
     "data": {
      "text/plain": [
       "128×128×34 RectilinearGrid{Float64, Periodic, Periodic, Bounded} on CPU with 3×3×3 halo\n",
       "├── Periodic x ∈ [0.0, 3840.0)  regularly spaced with Δx=30.0\n",
       "├── Periodic y ∈ [0.0, 3840.0)  regularly spaced with Δy=30.0\n",
       "└── Bounded  z ∈ [-1020.0, 0.0] regularly spaced with Δz=30.0"
      ]
     },
     "execution_count": 2,
     "metadata": {},
     "output_type": "execute_result"
    }
   ],
   "source": [
    "grid = RectilinearGrid(CPU(), size=(128, 128, 34), extent=(3840, 3840,1020), halo=(3, 3, 3), topology=(Periodic, Periodic, Bounded))"
   ]
  },
  {
   "cell_type": "code",
   "execution_count": 3,
   "id": "148b3f0c-f975-49d0-8f3d-8dd0655c78d2",
   "metadata": {},
   "outputs": [
    {
     "data": {
      "text/plain": [
       "SeawaterBuoyancy{Float64}:\n",
       "├── gravitational_acceleration: 9.80665\n",
       "└── equation of state: LinearEquationOfState(thermal_expansion=0.000119, haline_contraction=0.00077)"
      ]
     },
     "execution_count": 3,
     "metadata": {},
     "output_type": "execute_result"
    }
   ],
   "source": [
    "buoyancy = SeawaterBuoyancy(equation_of_state=LinearEquationOfState(thermal_expansion = 1.19e-4,\n",
    "                                                                    haline_contraction = 7.7e-4))"
   ]
  },
  {
   "cell_type": "code",
   "execution_count": 4,
   "id": "87380f32-f078-4155-94aa-5d889965bf15",
   "metadata": {},
   "outputs": [
    {
     "data": {
      "text/plain": [
       "FluxBoundaryCondition: ContinuousBoundaryFunction T_flux at (Nothing, Nothing, Nothing)"
      ]
     },
     "execution_count": 4,
     "metadata": {},
     "output_type": "execute_result"
    }
   ],
   "source": [
    "T_flux(x, y, t, params) = params.initial_H_flux / (params.ρₒ * params.cᴾ) + \n",
    "                       (params.Hr * randn() / (params.ρₒ * params.cᴾ)) * exp(-t^4 / (24 * params.shut_off_time^4))  # K m s⁻¹\n",
    "\n",
    "T_flux_parameters = (initial_H_flux = 300.0, ρₒ = 1027.62, cᴾ = 3991.0, Hr = 90,\n",
    "                                    shut_off_time = 2hours)\n",
    "\n",
    "T_flux_bc = FluxBoundaryCondition(T_flux, parameters = T_flux_parameters)"
   ]
  },
  {
   "cell_type": "code",
   "execution_count": 5,
   "id": "f6dad45f-4b9e-48b4-a1c8-b4a2b13565f2",
   "metadata": {},
   "outputs": [
    {
     "data": {
      "text/plain": [
       "GradientBoundaryCondition: 0.00032"
      ]
     },
     "execution_count": 5,
     "metadata": {},
     "output_type": "execute_result"
    }
   ],
   "source": [
    "dTdz = 3.2e-4 # ᵒC m⁻¹\n",
    "\n",
    "T_gradient_bc = GradientBoundaryCondition(dTdz)"
   ]
  },
  {
   "cell_type": "code",
   "execution_count": 6,
   "id": "f99b4ee1-ba9a-40e3-9324-558180c5a803",
   "metadata": {},
   "outputs": [
    {
     "data": {
      "text/plain": [
       "Oceananigans.FieldBoundaryConditions, with boundary conditions\n",
       "├── west: DefaultBoundaryCondition (FluxBoundaryCondition: Nothing)\n",
       "├── east: DefaultBoundaryCondition (FluxBoundaryCondition: Nothing)\n",
       "├── south: DefaultBoundaryCondition (FluxBoundaryCondition: Nothing)\n",
       "├── north: DefaultBoundaryCondition (FluxBoundaryCondition: Nothing)\n",
       "├── bottom: GradientBoundaryCondition: 0.00032\n",
       "├── top: FluxBoundaryCondition: ContinuousBoundaryFunction T_flux at (Nothing, Nothing, Nothing)\n",
       "└── immersed: DefaultBoundaryCondition (FluxBoundaryCondition: Nothing)"
      ]
     },
     "execution_count": 6,
     "metadata": {},
     "output_type": "execute_result"
    }
   ],
   "source": [
    "T_bcs = FieldBoundaryConditions(top = T_flux_bc,\n",
    "                                bottom = T_gradient_bc)"
   ]
  },
  {
   "cell_type": "code",
   "execution_count": 7,
   "id": "c8b33ec6-1757-4bc6-a640-e9abf221ca46",
   "metadata": {},
   "outputs": [
    {
     "data": {
      "text/plain": [
       "FPlane{Float64}(f=0.00014)"
      ]
     },
     "execution_count": 7,
     "metadata": {},
     "output_type": "execute_result"
    }
   ],
   "source": [
    "coriolis = FPlane(f=1.4e-4) #1.4e-4"
   ]
  },
  {
   "cell_type": "code",
   "execution_count": 8,
   "id": "a57c6eea-c2c4-4eeb-85d7-e7cd90234614",
   "metadata": {},
   "outputs": [
    {
     "data": {
      "text/plain": [
       "NonhydrostaticModel{CPU, RectilinearGrid}(time = 0 seconds, iteration = 0)\n",
       "├── grid: 128×128×34 RectilinearGrid{Float64, Periodic, Periodic, Bounded} on CPU with 3×3×3 halo\n",
       "├── timestepper: QuasiAdamsBashforth2TimeStepper\n",
       "├── tracers: (T, S)\n",
       "├── closure: AnisotropicMinimumDissipation{Oceananigans.TurbulenceClosures.ExplicitTimeDiscretization, NamedTuple{(:T, :S), Tuple{Float64, Float64}}, Float64, Nothing}\n",
       "├── buoyancy: SeawaterBuoyancy with g=9.80665 and LinearEquationOfState(thermal_expansion=0.000119, haline_contraction=0.00077) with ĝ = NegativeZDirection()\n",
       "└── coriolis: FPlane{Float64}(f=0.00014)"
      ]
     },
     "execution_count": 8,
     "metadata": {},
     "output_type": "execute_result"
    }
   ],
   "source": [
    "model = NonhydrostaticModel(; grid, buoyancy,\n",
    "                            advection = UpwindBiased(order=5),\n",
    "                            tracers = (:T, :S),\n",
    "                            coriolis = coriolis,\n",
    "                            closure = AnisotropicMinimumDissipation(),\n",
    "                            boundary_conditions = (T=T_bcs,))"
   ]
  },
  {
   "cell_type": "code",
   "execution_count": 9,
   "id": "1b0617c6-7b9a-4d43-b807-71a9cf3c9f17",
   "metadata": {},
   "outputs": [],
   "source": [
    "# Random noise damped at top and bottom\n",
    "Ξ(z) = randn() * z / model.grid.Lz * (1 + z / model.grid.Lz) # noise\n",
    "\n",
    "# Temperature initial condition: a stable density gradient with random noise superposed.\n",
    "Tᵢ(x, y, z) = z > -450 ? 5.5 : 5.495 + dTdz * (z + 450) # + dTdz * model.grid.Lz * 1e-6 * Ξ(z)\n",
    "\n",
    "# Velocity initial condition: random noise scaled by the friction velocity.\n",
    "uᵢ(x, y, z) = 1e-5 * Ξ(z)\n",
    "\n",
    "# `set!` the `model` fields using functions or constants:\n",
    "set!(model, u=uᵢ, w=uᵢ, T=Tᵢ, S=35)"
   ]
  },
  {
   "cell_type": "code",
   "execution_count": 10,
   "id": "1a611dd3-9dfc-4e2e-b94b-958815186536",
   "metadata": {},
   "outputs": [
    {
     "data": {
      "text/plain": [
       "Simulation of NonhydrostaticModel{CPU, RectilinearGrid}(time = 0 seconds, iteration = 0)\n",
       "├── Next time step: 1.500 minutes\n",
       "├── Elapsed wall time: 0 seconds\n",
       "├── Wall time per iteration: NaN days\n",
       "├── Stop time: 5 days\n",
       "├── Stop iteration : Inf\n",
       "├── Wall time limit: Inf\n",
       "├── Callbacks: OrderedDict with 4 entries:\n",
       "│   ├── stop_time_exceeded => Callback of stop_time_exceeded on IterationInterval(1)\n",
       "│   ├── stop_iteration_exceeded => Callback of stop_iteration_exceeded on IterationInterval(1)\n",
       "│   ├── wall_time_limit_exceeded => Callback of wall_time_limit_exceeded on IterationInterval(1)\n",
       "│   └── nan_checker => Callback of NaNChecker for u on IterationInterval(100)\n",
       "├── Output writers: OrderedDict with no entries\n",
       "└── Diagnostics: OrderedDict with no entries"
      ]
     },
     "execution_count": 10,
     "metadata": {},
     "output_type": "execute_result"
    }
   ],
   "source": [
    "simulation = Simulation(model, Δt=90.0, stop_time=5day)"
   ]
  },
  {
   "cell_type": "code",
   "execution_count": 11,
   "id": "ffcd9360-6b1e-4614-b5bb-b54808cc5cfa",
   "metadata": {},
   "outputs": [
    {
     "data": {
      "text/plain": [
       "Callback of progress_message on IterationInterval(50)"
      ]
     },
     "execution_count": 11,
     "metadata": {},
     "output_type": "execute_result"
    }
   ],
   "source": [
    "# Print a progress message\n",
    "progress_message(sim) = @printf(\"Iteration: %04d, time: %s, Δt: %s, max(|w|) = %.1e ms⁻¹, wall time: %s\\n\",\n",
    "                                iteration(sim), prettytime(sim), prettytime(sim.Δt),\n",
    "                                maximum(abs, sim.model.velocities.w), prettytime(sim.run_wall_time))\n",
    "\n",
    "simulation.callbacks[:progress] = Callback(progress_message, IterationInterval(50))"
   ]
  },
  {
   "cell_type": "code",
   "execution_count": 12,
   "id": "b0817603-2ed5-40b8-a1fc-8beb1c79a4e0",
   "metadata": {
    "tags": []
   },
   "outputs": [
    {
     "name": "stderr",
     "output_type": "stream",
     "text": [
      "\u001b[33m\u001b[1m┌ \u001b[22m\u001b[39m\u001b[33m\u001b[1mWarning: \u001b[22m\u001b[39mOverwriting existing /data/gpfs/projects/punim1661/DS96_varification/DS96_solution_v1.nc.\n",
      "\u001b[33m\u001b[1m└ \u001b[22m\u001b[39m\u001b[90m@ Oceananigans.OutputWriters ~/.julia/packages/Oceananigans/Z5znR/src/OutputWriters/netcdf_output_writer.jl:359\u001b[39m\n"
     ]
    },
    {
     "data": {
      "text/plain": [
       "NetCDFOutputWriter scheduled on TimeInterval(6 hours):\n",
       "├── filepath: /data/gpfs/projects/punim1661/DS96_varification/DS96_solution_v1.nc\n",
       "├── dimensions: zC(34), zF(35), xC(128), yF(128), xF(128), yC(128), time(0)\n",
       "├── 4 outputs: (v, w, T, u)\n",
       "└── array type: Array{Float64}"
      ]
     },
     "execution_count": 12,
     "metadata": {},
     "output_type": "execute_result"
    }
   ],
   "source": [
    "fields = Dict(\"u\" => model.velocities.u, \"v\" => model.velocities.v, \"w\" => model.velocities.w, \"T\" => model.tracers.T)\n",
    "\n",
    "# %%\n",
    "file_name = \"DS96_solution_v1\"\n",
    "\n",
    "simulation.output_writers[:field_writer] =\n",
    "    NetCDFOutputWriter(model, fields,\n",
    "          filename = joinpath(@__DIR__, file_name * \".nc\"),\n",
    "          schedule = TimeInterval(6hour), overwrite_existing = true)"
   ]
  },
  {
   "cell_type": "code",
   "execution_count": 13,
   "id": "8be02778-6316-497d-88ba-49a4dd45979e",
   "metadata": {},
   "outputs": [
    {
     "data": {
      "text/plain": [
       "1×1×35 Field{Nothing, Nothing, Face} reduced over dims = (1, 2) on RectilinearGrid on CPU\n",
       "├── data: OffsetArrays.OffsetArray{Float64, 3, Array{Float64, 3}}, size: (1, 1, 35)\n",
       "├── grid: 128×128×34 RectilinearGrid{Float64, Periodic, Periodic, Bounded} on CPU with 3×3×3 halo\n",
       "├── operand: mean! over dims (1, 2) of BinaryOperation at (Center, Center, Face)\n",
       "└── status: time=0.0"
      ]
     },
     "execution_count": 13,
     "metadata": {},
     "output_type": "execute_result"
    }
   ],
   "source": [
    "T_avg = Field(Average(model.tracers.T, dims=(1, 2)))\n",
    "T_p = model.tracers.T - T_avg\n",
    "T_p2 = Field(Average(T_p*T_p, dims=(1, 2)))\n",
    "\n",
    "v_avg = Field(Average(model.velocities.v, dims=(1, 2)))\n",
    "u_avg = Field(Average(model.velocities.u, dims=(1, 2)))\n",
    "u_p = model.velocities.u - u_avg\n",
    "u_p2 = Field(Average(u_p*u_p, dims=(1, 2)))\n",
    "\n",
    "w_avg = Field(Average(model.velocities.w, dims=(1, 2)))\n",
    "w_p = model.velocities.w - w_avg\n",
    "w_p2 = Field(Average(w_p*w_p, dims=(1, 2)))\n",
    "\n",
    "wT_p = Field(Average(w_p*T_p, dims=(1, 2)))"
   ]
  },
  {
   "cell_type": "code",
   "execution_count": 14,
   "id": "e055e11c-3fbc-4c0f-a10f-d138811f8ee0",
   "metadata": {},
   "outputs": [
    {
     "data": {
      "text/plain": [
       "NetCDFOutputWriter scheduled on TimeInterval(15 minutes):\n",
       "├── filepath: /data/gpfs/projects/punim1661/DS96_varification/DS96_solution_v1_averaged.nc\n",
       "├── dimensions: zC(34), zF(35), xC(128), yF(128), xF(128), yC(128), time(0)\n",
       "├── 4 outputs: (u_p2, T_p2, w_p2, wT_p)\n",
       "└── array type: Array{Float64}"
      ]
     },
     "execution_count": 14,
     "metadata": {},
     "output_type": "execute_result"
    }
   ],
   "source": [
    "simulation.output_writers[:avg_c] = NetCDFOutputWriter(model, (; u_avg=u_avg, v_avg=v_avg, w_avg=w_avg, T_avg=T_avg, u_p2=u_p2, w_p2=w_p2, T_p2=T_p2, wT_p=wT_p,),\n",
    "                                                     filename = joinpath(@__DIR__, file_name * \"_averaged.nc\"),\n",
    "                                                     schedule = TimeInterval(0.25hour), overwrite_existing = true)"
   ]
  },
  {
   "cell_type": "code",
   "execution_count": 15,
   "id": "c59015f3-78de-46a1-b823-975cecbe907f",
   "metadata": {},
   "outputs": [
    {
     "name": "stderr",
     "output_type": "stream",
     "text": [
      "\u001b[36m\u001b[1m[ \u001b[22m\u001b[39m\u001b[36m\u001b[1mInfo: \u001b[22m\u001b[39mInitializing simulation...\n"
     ]
    },
    {
     "name": "stdout",
     "output_type": "stream",
     "text": [
      "Iteration: 0000, time: 0 seconds, Δt: 1.500 minutes, max(|w|) = 8.7e-06 ms⁻¹, wall time: 0 seconds\n"
     ]
    },
    {
     "name": "stderr",
     "output_type": "stream",
     "text": [
      "\u001b[36m\u001b[1m[ \u001b[22m\u001b[39m\u001b[36m\u001b[1mInfo: \u001b[22m\u001b[39m    ... simulation initialization complete (30.974 seconds)\n",
      "\u001b[36m\u001b[1m[ \u001b[22m\u001b[39m\u001b[36m\u001b[1mInfo: \u001b[22m\u001b[39mExecuting initial time step...\n",
      "\u001b[36m\u001b[1m[ \u001b[22m\u001b[39m\u001b[36m\u001b[1mInfo: \u001b[22m\u001b[39m    ... initial time step complete (3.777 seconds).\n"
     ]
    },
    {
     "name": "stdout",
     "output_type": "stream",
     "text": [
      "Iteration: 0050, time: 1.250 hours, Δt: 1.500 minutes, max(|w|) = 2.2e-03 ms⁻¹, wall time: 1.417 minutes\n",
      "Iteration: 0100, time: 2.500 hours, Δt: 1.500 minutes, max(|w|) = 1.5e-02 ms⁻¹, wall time: 2.129 minutes\n",
      "Iteration: 0150, time: 3.750 hours, Δt: 1.500 minutes, max(|w|) = 4.4e-02 ms⁻¹, wall time: 2.769 minutes\n",
      "Iteration: 0200, time: 5 hours, Δt: 1.500 minutes, max(|w|) = 6.9e-02 ms⁻¹, wall time: 3.409 minutes\n",
      "Iteration: 0250, time: 6.250 hours, Δt: 1.500 minutes, max(|w|) = 7.6e-02 ms⁻¹, wall time: 4.052 minutes\n",
      "Iteration: 0300, time: 7.500 hours, Δt: 1.500 minutes, max(|w|) = 8.3e-02 ms⁻¹, wall time: 4.695 minutes\n",
      "Iteration: 0350, time: 8.750 hours, Δt: 1.500 minutes, max(|w|) = 8.8e-02 ms⁻¹, wall time: 5.339 minutes\n",
      "Iteration: 0400, time: 10 hours, Δt: 1.500 minutes, max(|w|) = 8.7e-02 ms⁻¹, wall time: 5.984 minutes\n",
      "Iteration: 0450, time: 11.250 hours, Δt: 1.500 minutes, max(|w|) = 8.3e-02 ms⁻¹, wall time: 6.629 minutes\n",
      "Iteration: 0500, time: 12.500 hours, Δt: 1.500 minutes, max(|w|) = 8.2e-02 ms⁻¹, wall time: 7.276 minutes\n",
      "Iteration: 0550, time: 13.750 hours, Δt: 1.500 minutes, max(|w|) = 8.5e-02 ms⁻¹, wall time: 7.922 minutes\n",
      "Iteration: 0600, time: 15 hours, Δt: 1.500 minutes, max(|w|) = 7.9e-02 ms⁻¹, wall time: 8.568 minutes\n",
      "Iteration: 0650, time: 16.250 hours, Δt: 1.500 minutes, max(|w|) = 7.7e-02 ms⁻¹, wall time: 9.214 minutes\n",
      "Iteration: 0700, time: 17.500 hours, Δt: 1.500 minutes, max(|w|) = 8.3e-02 ms⁻¹, wall time: 9.860 minutes\n",
      "Iteration: 0750, time: 18.750 hours, Δt: 1.500 minutes, max(|w|) = 8.2e-02 ms⁻¹, wall time: 10.506 minutes\n",
      "Iteration: 0800, time: 20 hours, Δt: 1.500 minutes, max(|w|) = 8.6e-02 ms⁻¹, wall time: 11.153 minutes\n",
      "Iteration: 0850, time: 21.250 hours, Δt: 1.500 minutes, max(|w|) = 8.1e-02 ms⁻¹, wall time: 11.800 minutes\n",
      "Iteration: 0900, time: 22.500 hours, Δt: 1.500 minutes, max(|w|) = 8.1e-02 ms⁻¹, wall time: 12.446 minutes\n",
      "Iteration: 0950, time: 23.750 hours, Δt: 1.500 minutes, max(|w|) = 8.2e-02 ms⁻¹, wall time: 13.092 minutes\n",
      "Iteration: 1000, time: 1.042 days, Δt: 1.500 minutes, max(|w|) = 8.4e-02 ms⁻¹, wall time: 13.740 minutes\n",
      "Iteration: 1050, time: 1.094 days, Δt: 1.500 minutes, max(|w|) = 9.5e-02 ms⁻¹, wall time: 14.386 minutes\n",
      "Iteration: 1100, time: 1.146 days, Δt: 1.500 minutes, max(|w|) = 9.8e-02 ms⁻¹, wall time: 15.033 minutes\n",
      "Iteration: 1150, time: 1.198 days, Δt: 1.500 minutes, max(|w|) = 8.7e-02 ms⁻¹, wall time: 15.679 minutes\n",
      "Iteration: 1200, time: 1.250 days, Δt: 1.500 minutes, max(|w|) = 8.7e-02 ms⁻¹, wall time: 16.326 minutes\n",
      "Iteration: 1250, time: 1.302 days, Δt: 1.500 minutes, max(|w|) = 9.7e-02 ms⁻¹, wall time: 16.974 minutes\n",
      "Iteration: 1300, time: 1.354 days, Δt: 1.500 minutes, max(|w|) = 8.4e-02 ms⁻¹, wall time: 17.620 minutes\n",
      "Iteration: 1350, time: 1.406 days, Δt: 1.500 minutes, max(|w|) = 8.4e-02 ms⁻¹, wall time: 18.266 minutes\n",
      "Iteration: 1400, time: 1.458 days, Δt: 1.500 minutes, max(|w|) = 9.2e-02 ms⁻¹, wall time: 18.913 minutes\n",
      "Iteration: 1450, time: 1.510 days, Δt: 1.500 minutes, max(|w|) = 9.3e-02 ms⁻¹, wall time: 19.561 minutes\n",
      "Iteration: 1500, time: 1.562 days, Δt: 1.500 minutes, max(|w|) = 8.2e-02 ms⁻¹, wall time: 20.207 minutes\n",
      "Iteration: 1550, time: 1.615 days, Δt: 1.500 minutes, max(|w|) = 8.9e-02 ms⁻¹, wall time: 20.853 minutes\n",
      "Iteration: 1600, time: 1.667 days, Δt: 1.500 minutes, max(|w|) = 8.6e-02 ms⁻¹, wall time: 21.499 minutes\n",
      "Iteration: 1650, time: 1.719 days, Δt: 1.500 minutes, max(|w|) = 9.4e-02 ms⁻¹, wall time: 22.145 minutes\n",
      "Iteration: 1700, time: 1.771 days, Δt: 1.500 minutes, max(|w|) = 8.7e-02 ms⁻¹, wall time: 22.794 minutes\n",
      "Iteration: 1750, time: 1.823 days, Δt: 1.500 minutes, max(|w|) = 9.0e-02 ms⁻¹, wall time: 23.441 minutes\n",
      "Iteration: 1800, time: 1.875 days, Δt: 1.500 minutes, max(|w|) = 8.8e-02 ms⁻¹, wall time: 24.087 minutes\n",
      "Iteration: 1850, time: 1.927 days, Δt: 1.500 minutes, max(|w|) = 8.9e-02 ms⁻¹, wall time: 24.733 minutes\n",
      "Iteration: 1900, time: 1.979 days, Δt: 1.500 minutes, max(|w|) = 9.4e-02 ms⁻¹, wall time: 25.378 minutes\n",
      "Iteration: 1950, time: 2.031 days, Δt: 1.500 minutes, max(|w|) = 8.7e-02 ms⁻¹, wall time: 26.026 minutes\n",
      "Iteration: 2000, time: 2.083 days, Δt: 1.500 minutes, max(|w|) = 9.2e-02 ms⁻¹, wall time: 26.671 minutes\n",
      "Iteration: 2050, time: 2.135 days, Δt: 1.500 minutes, max(|w|) = 9.7e-02 ms⁻¹, wall time: 27.317 minutes\n",
      "Iteration: 2100, time: 2.188 days, Δt: 1.500 minutes, max(|w|) = 9.4e-02 ms⁻¹, wall time: 27.963 minutes\n",
      "Iteration: 2150, time: 2.240 days, Δt: 1.500 minutes, max(|w|) = 9.6e-02 ms⁻¹, wall time: 28.609 minutes\n",
      "Iteration: 2200, time: 2.292 days, Δt: 1.500 minutes, max(|w|) = 8.7e-02 ms⁻¹, wall time: 29.255 minutes\n",
      "Iteration: 2250, time: 2.344 days, Δt: 1.500 minutes, max(|w|) = 8.6e-02 ms⁻¹, wall time: 29.901 minutes\n",
      "Iteration: 2300, time: 2.396 days, Δt: 1.500 minutes, max(|w|) = 9.0e-02 ms⁻¹, wall time: 30.547 minutes\n",
      "Iteration: 2350, time: 2.448 days, Δt: 1.500 minutes, max(|w|) = 8.5e-02 ms⁻¹, wall time: 31.193 minutes\n",
      "Iteration: 2400, time: 2.500 days, Δt: 1.500 minutes, max(|w|) = 9.3e-02 ms⁻¹, wall time: 31.840 minutes\n",
      "Iteration: 2450, time: 2.552 days, Δt: 1.500 minutes, max(|w|) = 9.1e-02 ms⁻¹, wall time: 32.487 minutes\n",
      "Iteration: 2500, time: 2.604 days, Δt: 1.500 minutes, max(|w|) = 9.5e-02 ms⁻¹, wall time: 33.132 minutes\n",
      "Iteration: 2550, time: 2.656 days, Δt: 1.500 minutes, max(|w|) = 7.5e-02 ms⁻¹, wall time: 33.778 minutes\n",
      "Iteration: 2600, time: 2.708 days, Δt: 1.500 minutes, max(|w|) = 8.5e-02 ms⁻¹, wall time: 34.424 minutes\n",
      "Iteration: 2650, time: 2.760 days, Δt: 1.500 minutes, max(|w|) = 9.4e-02 ms⁻¹, wall time: 35.072 minutes\n",
      "Iteration: 2700, time: 2.812 days, Δt: 1.500 minutes, max(|w|) = 9.0e-02 ms⁻¹, wall time: 35.718 minutes\n",
      "Iteration: 2750, time: 2.865 days, Δt: 1.500 minutes, max(|w|) = 9.3e-02 ms⁻¹, wall time: 36.364 minutes\n",
      "Iteration: 2800, time: 2.917 days, Δt: 1.500 minutes, max(|w|) = 9.9e-02 ms⁻¹, wall time: 37.009 minutes\n",
      "Iteration: 2850, time: 2.969 days, Δt: 1.500 minutes, max(|w|) = 9.8e-02 ms⁻¹, wall time: 37.655 minutes\n",
      "Iteration: 2900, time: 3.021 days, Δt: 1.500 minutes, max(|w|) = 9.8e-02 ms⁻¹, wall time: 38.302 minutes\n",
      "Iteration: 2950, time: 3.073 days, Δt: 1.500 minutes, max(|w|) = 1.0e-01 ms⁻¹, wall time: 38.947 minutes\n",
      "Iteration: 3000, time: 3.125 days, Δt: 1.500 minutes, max(|w|) = 1.0e-01 ms⁻¹, wall time: 39.592 minutes\n",
      "Iteration: 3050, time: 3.177 days, Δt: 1.500 minutes, max(|w|) = 8.7e-02 ms⁻¹, wall time: 40.238 minutes\n",
      "Iteration: 3100, time: 3.229 days, Δt: 1.500 minutes, max(|w|) = 8.4e-02 ms⁻¹, wall time: 40.883 minutes\n",
      "Iteration: 3150, time: 3.281 days, Δt: 1.500 minutes, max(|w|) = 8.8e-02 ms⁻¹, wall time: 41.530 minutes\n",
      "Iteration: 3200, time: 3.333 days, Δt: 1.500 minutes, max(|w|) = 8.9e-02 ms⁻¹, wall time: 42.175 minutes\n",
      "Iteration: 3250, time: 3.385 days, Δt: 1.500 minutes, max(|w|) = 9.0e-02 ms⁻¹, wall time: 42.821 minutes\n",
      "Iteration: 3300, time: 3.438 days, Δt: 1.500 minutes, max(|w|) = 9.1e-02 ms⁻¹, wall time: 43.467 minutes\n",
      "Iteration: 3350, time: 3.490 days, Δt: 1.500 minutes, max(|w|) = 1.0e-01 ms⁻¹, wall time: 44.112 minutes\n",
      "Iteration: 3400, time: 3.542 days, Δt: 1.500 minutes, max(|w|) = 1.1e-01 ms⁻¹, wall time: 44.759 minutes\n",
      "Iteration: 3450, time: 3.594 days, Δt: 1.500 minutes, max(|w|) = 9.2e-02 ms⁻¹, wall time: 45.404 minutes\n",
      "Iteration: 3500, time: 3.646 days, Δt: 1.500 minutes, max(|w|) = 9.1e-02 ms⁻¹, wall time: 46.050 minutes\n",
      "Iteration: 3550, time: 3.698 days, Δt: 1.500 minutes, max(|w|) = 9.3e-02 ms⁻¹, wall time: 46.695 minutes\n",
      "Iteration: 3600, time: 3.750 days, Δt: 1.500 minutes, max(|w|) = 9.7e-02 ms⁻¹, wall time: 47.341 minutes\n",
      "Iteration: 3650, time: 3.802 days, Δt: 1.500 minutes, max(|w|) = 1.0e-01 ms⁻¹, wall time: 47.988 minutes\n",
      "Iteration: 3700, time: 3.854 days, Δt: 1.500 minutes, max(|w|) = 9.5e-02 ms⁻¹, wall time: 48.634 minutes\n",
      "Iteration: 3750, time: 3.906 days, Δt: 1.500 minutes, max(|w|) = 8.6e-02 ms⁻¹, wall time: 49.280 minutes\n",
      "Iteration: 3800, time: 3.958 days, Δt: 1.500 minutes, max(|w|) = 9.6e-02 ms⁻¹, wall time: 49.925 minutes\n",
      "Iteration: 3850, time: 4.010 days, Δt: 1.500 minutes, max(|w|) = 9.4e-02 ms⁻¹, wall time: 50.571 minutes\n",
      "Iteration: 3900, time: 4.062 days, Δt: 1.500 minutes, max(|w|) = 9.0e-02 ms⁻¹, wall time: 51.216 minutes\n",
      "Iteration: 3950, time: 4.115 days, Δt: 1.500 minutes, max(|w|) = 8.9e-02 ms⁻¹, wall time: 51.861 minutes\n",
      "Iteration: 4000, time: 4.167 days, Δt: 1.500 minutes, max(|w|) = 8.8e-02 ms⁻¹, wall time: 52.507 minutes\n",
      "Iteration: 4050, time: 4.219 days, Δt: 1.500 minutes, max(|w|) = 9.0e-02 ms⁻¹, wall time: 53.154 minutes\n",
      "Iteration: 4100, time: 4.271 days, Δt: 1.500 minutes, max(|w|) = 1.0e-01 ms⁻¹, wall time: 53.801 minutes\n",
      "Iteration: 4150, time: 4.323 days, Δt: 1.500 minutes, max(|w|) = 9.4e-02 ms⁻¹, wall time: 54.446 minutes\n",
      "Iteration: 4200, time: 4.375 days, Δt: 1.500 minutes, max(|w|) = 9.8e-02 ms⁻¹, wall time: 55.091 minutes\n",
      "Iteration: 4250, time: 4.427 days, Δt: 1.500 minutes, max(|w|) = 9.9e-02 ms⁻¹, wall time: 55.736 minutes\n",
      "Iteration: 4300, time: 4.479 days, Δt: 1.500 minutes, max(|w|) = 1.0e-01 ms⁻¹, wall time: 56.381 minutes\n",
      "Iteration: 4350, time: 4.531 days, Δt: 1.500 minutes, max(|w|) = 1.0e-01 ms⁻¹, wall time: 57.027 minutes\n",
      "Iteration: 4400, time: 4.583 days, Δt: 1.500 minutes, max(|w|) = 8.9e-02 ms⁻¹, wall time: 57.672 minutes\n",
      "Iteration: 4450, time: 4.635 days, Δt: 1.500 minutes, max(|w|) = 1.0e-01 ms⁻¹, wall time: 58.317 minutes\n",
      "Iteration: 4500, time: 4.688 days, Δt: 1.500 minutes, max(|w|) = 9.1e-02 ms⁻¹, wall time: 58.962 minutes\n",
      "Iteration: 4550, time: 4.740 days, Δt: 1.500 minutes, max(|w|) = 1.0e-01 ms⁻¹, wall time: 59.608 minutes\n",
      "Iteration: 4600, time: 4.792 days, Δt: 1.500 minutes, max(|w|) = 9.1e-02 ms⁻¹, wall time: 1.004 hours\n",
      "Iteration: 4650, time: 4.844 days, Δt: 1.500 minutes, max(|w|) = 9.7e-02 ms⁻¹, wall time: 1.015 hours\n",
      "Iteration: 4700, time: 4.896 days, Δt: 1.500 minutes, max(|w|) = 9.9e-02 ms⁻¹, wall time: 1.026 hours\n",
      "Iteration: 4750, time: 4.948 days, Δt: 1.500 minutes, max(|w|) = 9.1e-02 ms⁻¹, wall time: 1.036 hours\n"
     ]
    },
    {
     "name": "stderr",
     "output_type": "stream",
     "text": [
      "\u001b[36m\u001b[1m[ \u001b[22m\u001b[39m\u001b[36m\u001b[1mInfo: \u001b[22m\u001b[39mSimulation is stopping after running for 1.047 hours.\n",
      "\u001b[36m\u001b[1m[ \u001b[22m\u001b[39m\u001b[36m\u001b[1mInfo: \u001b[22m\u001b[39mSimulation time 5 days equals or exceeds stop time 5 days.\n"
     ]
    },
    {
     "name": "stdout",
     "output_type": "stream",
     "text": [
      "Iteration: 4800, time: 5 days, Δt: 1.500 minutes, max(|w|) = 9.7e-02 ms⁻¹, wall time: 1.047 hours\n"
     ]
    }
   ],
   "source": [
    "run!(simulation)"
   ]
  },
  {
   "cell_type": "code",
   "execution_count": null,
   "id": "40fee6b7-5b52-458d-ac2d-e91c43b57f58",
   "metadata": {},
   "outputs": [],
   "source": []
  }
 ],
 "metadata": {
  "kernelspec": {
   "display_name": "Julia 1.9.3",
   "language": "julia",
   "name": "julia-1.9"
  },
  "language_info": {
   "file_extension": ".jl",
   "mimetype": "application/julia",
   "name": "julia",
   "version": "1.9.3"
  }
 },
 "nbformat": 4,
 "nbformat_minor": 5
}
